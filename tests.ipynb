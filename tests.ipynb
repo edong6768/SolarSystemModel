{
 "cells": [
  {
   "cell_type": "code",
   "execution_count": 4,
   "metadata": {},
   "outputs": [],
   "source": [
    "import math as m\n",
    "from matplotlib import pyplot as plt\n",
    "#import celestials as c\n",
    "import coor_ref as cr\n",
    "import numpy as np\n",
    "import celestials as cel\n",
    "from trees import tree as tr"
   ]
  },
  {
   "cell_type": "code",
   "execution_count": 5,
   "metadata": {},
   "outputs": [
    {
     "name": "stdout",
     "output_type": "stream",
     "text": [
      "2\n",
      "├──3\n",
      "│  └──5\n",
      "│     └──6\n",
      "└──4\n",
      "['2', [['3', [['5', ['6']]]], '4']]\n",
      "{'2': 2, '3': 3, '5': 5, '6': 6, '4': 4}\n"
     ]
    }
   ],
   "source": [
    "############################### tree test ###############################\n",
    "a=tr(2, '2')\n",
    "b=tr(3, '3')\n",
    "c=tr(4, '4')\n",
    "d=tr(5, '5')\n",
    "e=tr(6, '6')\n",
    "\n",
    "a.set_children(b, c)\n",
    "b.set_children(d)\n",
    "d.set_children(e)\n",
    "\n",
    "print(a)\n",
    "print(a.t2l())\n",
    "print(a.dictify)"
   ]
  },
  {
   "cell_type": "code",
   "execution_count": 6,
   "metadata": {},
   "outputs": [
    {
     "name": "stdout",
     "output_type": "stream",
     "text": [
      "[[2 0 0]\n",
      " [2 0 0]\n",
      " [1 0 0]]\n"
     ]
    }
   ],
   "source": [
    "############################### coor3 test ###############################\n",
    "b=np.array(((1, 2, 3), (3, 4, 5), (3, 4, 5))*3).T\n",
    "dc=cr.coor3('o', b, (5, 6, 7), (3, 4, 5), (1, 2, 3))\n",
    "\n",
    "\n",
    "acd=np.array([[2, 0, 0 ], [2, 0, 0], [1, 0, 0]])\n",
    "print(acd)\n",
    "p=cr.coor3('o', acd)\n",
    "#print(cc.coor3('o', acd))\n",
    "\n",
    "#print(b.base_conv(p, 'sa'))\n",
    "\n",
    "# full_coor=np.empty((0, 0), float)\n",
    "\n",
    "# print(full_coor)\n",
    "# j=np.array((1, 2, 3))\n",
    "\n",
    "# k=np.column_stack([j, j])\n",
    "\n",
    "# print(k)"
   ]
  },
  {
   "cell_type": "code",
   "execution_count": 14,
   "metadata": {},
   "outputs": [
    {
     "ename": "UFuncTypeError",
     "evalue": "ufunc 'matmul' did not contain a loop with signature matching types (dtype('<U32'), dtype('<U32')) -> dtype('<U32')",
     "output_type": "error",
     "traceback": [
      "\u001b[0;31m---------------------------------------------------------------------------\u001b[0m",
      "\u001b[0;31mUFuncTypeError\u001b[0m                            Traceback (most recent call last)",
      "\u001b[0;32m<ipython-input-14-df273fd21b05>\u001b[0m in \u001b[0;36m<module>\u001b[0;34m\u001b[0m\n\u001b[1;32m      1\u001b[0m \u001b[0;31m############################### reffrm test ###############################\u001b[0m\u001b[0;34m\u001b[0m\u001b[0;34m\u001b[0m\u001b[0;34m\u001b[0m\u001b[0m\n\u001b[1;32m      2\u001b[0m \u001b[0;34m\u001b[0m\u001b[0m\n\u001b[0;32m----> 3\u001b[0;31m \u001b[0ma\u001b[0m\u001b[0;34m=\u001b[0m\u001b[0mcr\u001b[0m\u001b[0;34m.\u001b[0m\u001b[0mreffrms\u001b[0m\u001b[0;34m(\u001b[0m\u001b[0;36m1\u001b[0m\u001b[0;34m,\u001b[0m \u001b[0;36m2\u001b[0m\u001b[0;34m,\u001b[0m \u001b[0;36m3\u001b[0m\u001b[0;34m,\u001b[0m \u001b[0;36m4\u001b[0m\u001b[0;34m,\u001b[0m \u001b[0;36m5\u001b[0m\u001b[0;34m,\u001b[0m \u001b[0;36m6\u001b[0m\u001b[0;34m,\u001b[0m \u001b[0;34m'A'\u001b[0m\u001b[0;34m)\u001b[0m\u001b[0;34m\u001b[0m\u001b[0;34m\u001b[0m\u001b[0m\n\u001b[0m\u001b[1;32m      4\u001b[0m \u001b[0mb\u001b[0m\u001b[0;34m=\u001b[0m\u001b[0mcr\u001b[0m\u001b[0;34m.\u001b[0m\u001b[0mreffrms\u001b[0m\u001b[0;34m(\u001b[0m\u001b[0;36m1\u001b[0m\u001b[0;34m,\u001b[0m \u001b[0;36m2\u001b[0m\u001b[0;34m,\u001b[0m \u001b[0;36m3\u001b[0m\u001b[0;34m,\u001b[0m \u001b[0;36m4\u001b[0m\u001b[0;34m,\u001b[0m \u001b[0;36m5\u001b[0m\u001b[0;34m,\u001b[0m \u001b[0;36m7\u001b[0m\u001b[0;34m,\u001b[0m \u001b[0;34m'B'\u001b[0m\u001b[0;34m)\u001b[0m\u001b[0;34m\u001b[0m\u001b[0;34m\u001b[0m\u001b[0m\n\u001b[1;32m      5\u001b[0m \u001b[0mbed\u001b[0m\u001b[0;34m=\u001b[0m\u001b[0mcr\u001b[0m\u001b[0;34m.\u001b[0m\u001b[0mreffrms\u001b[0m\u001b[0;34m(\u001b[0m\u001b[0;36m1\u001b[0m\u001b[0;34m,\u001b[0m \u001b[0;36m2\u001b[0m\u001b[0;34m,\u001b[0m \u001b[0;36m3\u001b[0m\u001b[0;34m,\u001b[0m \u001b[0;36m4\u001b[0m\u001b[0;34m,\u001b[0m \u001b[0;36m5\u001b[0m\u001b[0;34m,\u001b[0m \u001b[0;36m3\u001b[0m\u001b[0;34m,\u001b[0m \u001b[0;34m'C'\u001b[0m\u001b[0;34m)\u001b[0m\u001b[0;34m\u001b[0m\u001b[0;34m\u001b[0m\u001b[0m\n",
      "\u001b[0;32m~/Downloads/solareclipsemodel/coor_ref.py\u001b[0m in \u001b[0;36m__init__\u001b[0;34m(self, node_lon_rad, incln_rad, lon_ref, name, x_dsp, y_dsp, z_dsp)\u001b[0m\n\u001b[1;32m    334\u001b[0m \u001b[0;34m\u001b[0m\u001b[0m\n\u001b[1;32m    335\u001b[0m   \u001b[0;32mdef\u001b[0m \u001b[0m__init__\u001b[0m\u001b[0;34m(\u001b[0m\u001b[0mself\u001b[0m\u001b[0;34m,\u001b[0m \u001b[0mnode_lon_rad\u001b[0m\u001b[0;34m=\u001b[0m\u001b[0;36m0\u001b[0m\u001b[0;34m,\u001b[0m \u001b[0mincln_rad\u001b[0m\u001b[0;34m=\u001b[0m\u001b[0;36m0\u001b[0m\u001b[0;34m,\u001b[0m \u001b[0mlon_ref\u001b[0m\u001b[0;34m=\u001b[0m\u001b[0;36m0\u001b[0m\u001b[0;34m,\u001b[0m \u001b[0mname\u001b[0m\u001b[0;34m=\u001b[0m\u001b[0;34m'reffrm'\u001b[0m\u001b[0;34m,\u001b[0m \u001b[0mx_dsp\u001b[0m\u001b[0;34m=\u001b[0m\u001b[0;36m0\u001b[0m\u001b[0;34m,\u001b[0m \u001b[0my_dsp\u001b[0m\u001b[0;34m=\u001b[0m\u001b[0;36m0\u001b[0m\u001b[0;34m,\u001b[0m \u001b[0mz_dsp\u001b[0m\u001b[0;34m=\u001b[0m\u001b[0;36m0\u001b[0m\u001b[0;34m)\u001b[0m\u001b[0;34m:\u001b[0m\u001b[0;34m\u001b[0m\u001b[0;34m\u001b[0m\u001b[0m\n\u001b[0;32m--> 336\u001b[0;31m     \u001b[0mself\u001b[0m\u001b[0;34m.\u001b[0m\u001b[0mreset_reffrm\u001b[0m\u001b[0;34m(\u001b[0m\u001b[0mnode_lon_rad\u001b[0m\u001b[0;34m,\u001b[0m \u001b[0mincln_rad\u001b[0m\u001b[0;34m,\u001b[0m \u001b[0mlon_ref\u001b[0m\u001b[0;34m,\u001b[0m \u001b[0mname\u001b[0m\u001b[0;34m,\u001b[0m \u001b[0mx_dsp\u001b[0m\u001b[0;34m,\u001b[0m \u001b[0my_dsp\u001b[0m\u001b[0;34m,\u001b[0m \u001b[0mz_dsp\u001b[0m\u001b[0;34m)\u001b[0m\u001b[0;34m\u001b[0m\u001b[0;34m\u001b[0m\u001b[0m\n\u001b[0m\u001b[1;32m    337\u001b[0m \u001b[0;34m\u001b[0m\u001b[0m\n\u001b[1;32m    338\u001b[0m \u001b[0;34m\u001b[0m\u001b[0m\n",
      "\u001b[0;32m~/Downloads/solareclipsemodel/coor_ref.py\u001b[0m in \u001b[0;36mreset_reffrm\u001b[0;34m(self, node_lon_rad, incln_rad, lon_ref, name, x_dsp, y_dsp, z_dsp)\u001b[0m\n\u001b[1;32m    338\u001b[0m \u001b[0;34m\u001b[0m\u001b[0m\n\u001b[1;32m    339\u001b[0m   \u001b[0;32mdef\u001b[0m \u001b[0mreset_reffrm\u001b[0m\u001b[0;34m(\u001b[0m\u001b[0mself\u001b[0m\u001b[0;34m,\u001b[0m \u001b[0mnode_lon_rad\u001b[0m\u001b[0;34m=\u001b[0m\u001b[0;36m0\u001b[0m\u001b[0;34m,\u001b[0m \u001b[0mincln_rad\u001b[0m\u001b[0;34m=\u001b[0m\u001b[0;36m0\u001b[0m\u001b[0;34m,\u001b[0m \u001b[0mlon_ref\u001b[0m\u001b[0;34m=\u001b[0m\u001b[0;36m0\u001b[0m\u001b[0;34m,\u001b[0m \u001b[0mname\u001b[0m\u001b[0;34m=\u001b[0m\u001b[0;34m'reffrm'\u001b[0m\u001b[0;34m,\u001b[0m \u001b[0mx_dsp\u001b[0m\u001b[0;34m=\u001b[0m\u001b[0;36m0\u001b[0m\u001b[0;34m,\u001b[0m \u001b[0my_dsp\u001b[0m\u001b[0;34m=\u001b[0m\u001b[0;36m0\u001b[0m\u001b[0;34m,\u001b[0m \u001b[0mz_dsp\u001b[0m\u001b[0;34m=\u001b[0m\u001b[0;36m0\u001b[0m\u001b[0;34m)\u001b[0m\u001b[0;34m:\u001b[0m\u001b[0;34m\u001b[0m\u001b[0;34m\u001b[0m\u001b[0m\n\u001b[0;32m--> 340\u001b[0;31m     \u001b[0mself\u001b[0m\u001b[0;34m.\u001b[0m\u001b[0mconvM_O\u001b[0m\u001b[0;34m=\u001b[0m\u001b[0mself\u001b[0m\u001b[0;34m.\u001b[0m\u001b[0m__total_conv_matmaker\u001b[0m\u001b[0;34m(\u001b[0m\u001b[0mnode_lon_rad\u001b[0m\u001b[0;34m,\u001b[0m \u001b[0mincln_rad\u001b[0m\u001b[0;34m,\u001b[0m \u001b[0mlon_ref\u001b[0m\u001b[0;34m,\u001b[0m \u001b[0mx_dsp\u001b[0m\u001b[0;34m,\u001b[0m \u001b[0my_dsp\u001b[0m\u001b[0;34m,\u001b[0m \u001b[0mz_dsp\u001b[0m\u001b[0;34m)\u001b[0m\u001b[0;34m\u001b[0m\u001b[0;34m\u001b[0m\u001b[0m\n\u001b[0m\u001b[1;32m    341\u001b[0m     \u001b[0mself\u001b[0m\u001b[0;34m.\u001b[0m\u001b[0mname\u001b[0m\u001b[0;34m=\u001b[0m\u001b[0mname\u001b[0m\u001b[0;34m+\u001b[0m\u001b[0;34m(\u001b[0m\u001b[0;34m'_hash'\u001b[0m \u001b[0;32mif\u001b[0m \u001b[0mname\u001b[0m\u001b[0;34m==\u001b[0m\u001b[0;34m'reffrm'\u001b[0m \u001b[0;32melse\u001b[0m \u001b[0;34m''\u001b[0m\u001b[0;34m)\u001b[0m\u001b[0;34m\u001b[0m\u001b[0;34m\u001b[0m\u001b[0m\n\u001b[1;32m    342\u001b[0m \u001b[0;34m\u001b[0m\u001b[0m\n",
      "\u001b[0;32m~/Downloads/solareclipsemodel/coor_ref.py\u001b[0m in \u001b[0;36m__total_conv_matmaker\u001b[0;34m(self, *char_val)\u001b[0m\n\u001b[1;32m    395\u001b[0m     \u001b[0meu2\u001b[0m\u001b[0;34m=\u001b[0m\u001b[0mnp\u001b[0m\u001b[0;34m.\u001b[0m\u001b[0marray\u001b[0m\u001b[0;34m(\u001b[0m\u001b[0;34m[\u001b[0m\u001b[0;34m[\u001b[0m\u001b[0mm\u001b[0m\u001b[0;34m.\u001b[0m\u001b[0mcos\u001b[0m\u001b[0;34m(\u001b[0m\u001b[0ma\u001b[0m\u001b[0;34m[\u001b[0m\u001b[0;36m1\u001b[0m\u001b[0;34m]\u001b[0m\u001b[0;34m)\u001b[0m\u001b[0;34m,\u001b[0m \u001b[0;36m0\u001b[0m\u001b[0;34m,\u001b[0m \u001b[0;34m-\u001b[0m\u001b[0mm\u001b[0m\u001b[0;34m.\u001b[0m\u001b[0msin\u001b[0m\u001b[0;34m(\u001b[0m\u001b[0ma\u001b[0m\u001b[0;34m[\u001b[0m\u001b[0;36m1\u001b[0m\u001b[0;34m]\u001b[0m\u001b[0;34m)\u001b[0m\u001b[0;34m,\u001b[0m \u001b[0;36m0\u001b[0m\u001b[0;34m]\u001b[0m\u001b[0;34m,\u001b[0m \u001b[0;34m[\u001b[0m\u001b[0;36m0\u001b[0m\u001b[0;34m,\u001b[0m \u001b[0;36m1\u001b[0m\u001b[0;34m,\u001b[0m \u001b[0;36m0\u001b[0m\u001b[0;34m,\u001b[0m \u001b[0;36m0\u001b[0m\u001b[0;34m]\u001b[0m\u001b[0;34m,\u001b[0m\u001b[0;34m[\u001b[0m\u001b[0mm\u001b[0m\u001b[0;34m.\u001b[0m\u001b[0msin\u001b[0m\u001b[0;34m(\u001b[0m\u001b[0ma\u001b[0m\u001b[0;34m[\u001b[0m\u001b[0;36m1\u001b[0m\u001b[0;34m]\u001b[0m\u001b[0;34m)\u001b[0m\u001b[0;34m,\u001b[0m \u001b[0;36m0\u001b[0m\u001b[0;34m,\u001b[0m \u001b[0mm\u001b[0m\u001b[0;34m.\u001b[0m\u001b[0mcos\u001b[0m\u001b[0;34m(\u001b[0m\u001b[0ma\u001b[0m\u001b[0;34m[\u001b[0m\u001b[0;36m1\u001b[0m\u001b[0;34m]\u001b[0m\u001b[0;34m)\u001b[0m\u001b[0;34m,\u001b[0m \u001b[0;36m0\u001b[0m\u001b[0;34m]\u001b[0m\u001b[0;34m,\u001b[0m \u001b[0;34m[\u001b[0m\u001b[0;36m0\u001b[0m\u001b[0;34m,\u001b[0m \u001b[0;36m0\u001b[0m\u001b[0;34m,\u001b[0m \u001b[0;36m0\u001b[0m\u001b[0;34m,\u001b[0m \u001b[0;36m1\u001b[0m\u001b[0;34m]\u001b[0m\u001b[0;34m]\u001b[0m\u001b[0;34m)\u001b[0m\u001b[0;34m\u001b[0m\u001b[0;34m\u001b[0m\u001b[0m\n\u001b[1;32m    396\u001b[0m     \u001b[0meu3\u001b[0m\u001b[0;34m=\u001b[0m\u001b[0mnp\u001b[0m\u001b[0;34m.\u001b[0m\u001b[0marray\u001b[0m\u001b[0;34m(\u001b[0m\u001b[0;34m[\u001b[0m\u001b[0;34m[\u001b[0m\u001b[0mm\u001b[0m\u001b[0;34m.\u001b[0m\u001b[0mcos\u001b[0m\u001b[0;34m(\u001b[0m\u001b[0ma\u001b[0m\u001b[0;34m[\u001b[0m\u001b[0;36m2\u001b[0m\u001b[0;34m]\u001b[0m\u001b[0;34m)\u001b[0m\u001b[0;34m,\u001b[0m \u001b[0mm\u001b[0m\u001b[0;34m.\u001b[0m\u001b[0msin\u001b[0m\u001b[0;34m(\u001b[0m\u001b[0ma\u001b[0m\u001b[0;34m[\u001b[0m\u001b[0;36m2\u001b[0m\u001b[0;34m]\u001b[0m\u001b[0;34m)\u001b[0m\u001b[0;34m,\u001b[0m \u001b[0;36m0\u001b[0m\u001b[0;34m,\u001b[0m \u001b[0ma\u001b[0m\u001b[0;34m[\u001b[0m\u001b[0;36m3\u001b[0m\u001b[0;34m]\u001b[0m\u001b[0;34m]\u001b[0m\u001b[0;34m,\u001b[0m \u001b[0;34m[\u001b[0m\u001b[0;34m-\u001b[0m\u001b[0mm\u001b[0m\u001b[0;34m.\u001b[0m\u001b[0msin\u001b[0m\u001b[0;34m(\u001b[0m\u001b[0ma\u001b[0m\u001b[0;34m[\u001b[0m\u001b[0;36m2\u001b[0m\u001b[0;34m]\u001b[0m\u001b[0;34m)\u001b[0m\u001b[0;34m,\u001b[0m \u001b[0mm\u001b[0m\u001b[0;34m.\u001b[0m\u001b[0mcos\u001b[0m\u001b[0;34m(\u001b[0m\u001b[0ma\u001b[0m\u001b[0;34m[\u001b[0m\u001b[0;36m2\u001b[0m\u001b[0;34m]\u001b[0m\u001b[0;34m)\u001b[0m\u001b[0;34m,\u001b[0m \u001b[0;36m0\u001b[0m\u001b[0;34m,\u001b[0m \u001b[0ma\u001b[0m\u001b[0;34m[\u001b[0m\u001b[0;36m4\u001b[0m\u001b[0;34m]\u001b[0m\u001b[0;34m]\u001b[0m\u001b[0;34m,\u001b[0m \u001b[0;34m[\u001b[0m\u001b[0;36m0\u001b[0m\u001b[0;34m,\u001b[0m \u001b[0;36m0\u001b[0m\u001b[0;34m,\u001b[0m \u001b[0;36m1\u001b[0m\u001b[0;34m,\u001b[0m \u001b[0ma\u001b[0m\u001b[0;34m[\u001b[0m\u001b[0;36m5\u001b[0m\u001b[0;34m]\u001b[0m\u001b[0;34m]\u001b[0m\u001b[0;34m,\u001b[0m \u001b[0;34m[\u001b[0m\u001b[0;36m0\u001b[0m\u001b[0;34m,\u001b[0m \u001b[0;36m0\u001b[0m\u001b[0;34m,\u001b[0m \u001b[0;36m0\u001b[0m\u001b[0;34m,\u001b[0m \u001b[0;36m1\u001b[0m\u001b[0;34m]\u001b[0m\u001b[0;34m]\u001b[0m\u001b[0;34m)\u001b[0m\u001b[0;34m\u001b[0m\u001b[0;34m\u001b[0m\u001b[0m\n\u001b[0;32m--> 397\u001b[0;31m     \u001b[0mM_inv\u001b[0m\u001b[0;34m=\u001b[0m\u001b[0meu3\u001b[0m\u001b[0;34m@\u001b[0m\u001b[0meu2\u001b[0m\u001b[0;34m@\u001b[0m\u001b[0meu1\u001b[0m       \u001b[0;31m# abs -> self\u001b[0m\u001b[0;34m\u001b[0m\u001b[0;34m\u001b[0m\u001b[0m\n\u001b[0m\u001b[1;32m    398\u001b[0m     \u001b[0mM\u001b[0m\u001b[0;34m=\u001b[0m\u001b[0mnp\u001b[0m\u001b[0;34m.\u001b[0m\u001b[0mlinalg\u001b[0m\u001b[0;34m.\u001b[0m\u001b[0minv\u001b[0m\u001b[0;34m(\u001b[0m\u001b[0mM_inv\u001b[0m\u001b[0;34m)\u001b[0m  \u001b[0;31m# self -> abs\u001b[0m\u001b[0;34m\u001b[0m\u001b[0;34m\u001b[0m\u001b[0m\n\u001b[1;32m    399\u001b[0m     \u001b[0;32mreturn\u001b[0m \u001b[0;34m{\u001b[0m\u001b[0;34m'sa'\u001b[0m \u001b[0;34m:\u001b[0m \u001b[0mM\u001b[0m\u001b[0;34m,\u001b[0m \u001b[0;34m'as'\u001b[0m \u001b[0;34m:\u001b[0m \u001b[0mM_inv\u001b[0m\u001b[0;34m}\u001b[0m\u001b[0;34m\u001b[0m\u001b[0;34m\u001b[0m\u001b[0m\n",
      "\u001b[0;31mUFuncTypeError\u001b[0m: ufunc 'matmul' did not contain a loop with signature matching types (dtype('<U32'), dtype('<U32')) -> dtype('<U32')"
     ]
    }
   ],
   "source": [
    "############################### reffrm test ###############################\n",
    "\n",
    "a=cr.reffrms(1, 2, 3, 4, 5, 6, 'A')\n",
    "b=cr.reffrms(1, 2, 3, 4, 5, 7, 'B')\n",
    "bed=cr.reffrms(1, 2, 3, 4, 5, 3, 'C')\n",
    "deb=cr.reffrms(1, 3, 3, 4, 5, 3, 'D')\n",
    "asy=cr.reffrms(1, 2, 3, 4,9, 10, 'E')\n",
    "f=cr.reffrms(1, 2, 3, 4,4, 10, 'F')\n",
    "\n",
    "\n",
    "tree_list = [[a, [ [b,[deb]], [bed, [[asy, [f]]]] ] ]]\n",
    "k=cr.reffrm.l2t(tree_list)\n",
    "# print(a)\n",
    "# print(a.dictify)\n",
    "# print(a.t2l())\n",
    "\n",
    "#print(asdf[0], ' ,', asdf[1].name)\n",
    "#print(a, b)\n",
    "\n",
    "# a.reffrm_tree_plot()\n",
    "\n",
    "# hello\n",
    "#     goodbye\n",
    "#     bed\n",
    "#     hint\n",
    "#현재는 goodbye까지 나옴\n"
   ]
  },
  {
   "cell_type": "code",
   "execution_count": 13,
   "metadata": {},
   "outputs": [
    {
     "name": "stdout",
     "output_type": "stream",
     "text": [
      "Loading json...\n",
      "\n",
      "configuring SEM...\n",
      "\n",
      "Loading Sun...\n",
      "Loading Sun body info...\n",
      "\n",
      "Loading Earth...\n",
      "Loading Earth body info...\n",
      "Loading Earth orbit info...\n",
      "Calculating Earth orbit refference frame matrix...\n",
      "Loading Earth rotation info...\n",
      "Calculating Earth rotation refference frame matrix...\n",
      "\n",
      "Loading Moon...\n",
      "Loading Moon body info...\n",
      "Loading Moon orbit info...\n",
      "Calculating Moon orbit refference frame matrix...\n",
      "\n",
      "Loading Complete\n",
      " \n",
      "          \n",
      "             [[ model information ]]\n",
      "          \n",
      "          model name : SEM\n",
      "          datetime : 2021-05-26T11:19:53.0Z\n",
      "\n",
      " Celestial body info : \n",
      "┌──\n",
      "│  \n",
      "│  Sun\n",
      "│  - mass[kg] : 1.9885e+30\n",
      "│  - diameter[km] : 1392700\n",
      "│  \n",
      "│  - orbit info : None\n",
      "│  - rotation info : None\n",
      "│  \n",
      "└──\n",
      "\n",
      "┌──\n",
      "│  \n",
      "│  Earth\n",
      "│  - mass[kg] : 5.9722e+24\n",
      "│  - diameter[km] : 12742\n",
      "│  \n",
      "│  - orbit info : \n",
      "│    \n",
      "│    - coordinate info : (5.582314581333574e-09, 91166115.57259119, 91166115.57259119)\n",
      "│    \n",
      "│    - referance frame : \n",
      "│        \n",
      "│        name : Earth_orb\n",
      "│         - characteristic matrix : \n",
      "│           [[1. 0. 0. 0.]\n",
      "│            [0. 1. 0. 0.]\n",
      "│            [0. 0. 1. 0.]\n",
      "│            [0. 0. 0. 1.]]\n",
      "│        \n",
      "│  - rotation info : \n",
      "│    \n",
      "│    - refference frame :\n",
      "│        \n",
      "│        name : Earth_rot\n",
      "│         - characteristic matrix : \n",
      "│           [[-1.78943065e-02 -2.23132451e-01 -9.74623878e-01  1.51579718e+08]\n",
      "│            [ 9.99700249e-01  1.22977547e-02 -2.11701881e-02  2.49629025e+00]\n",
      "│            [ 1.67094413e-02 -9.74710559e-01  2.22845507e-01  0.00000000e+00]\n",
      "│            [ 0.00000000e+00  0.00000000e+00  0.00000000e+00  1.00000000e+00]]\n",
      "│        \n",
      "│  \n",
      "└──\n",
      "\n",
      "┌──\n",
      "│  \n",
      "│  Moon\n",
      "│  - mass[kg] : 7.34767309e+22\n",
      "│  - diameter[km] : 3474.8\n",
      "│  \n",
      "│  - orbit info : \n",
      "│    \n",
      "│    - coordinate info : (5.003828583381249e-19, 0.008171872227755969, 0.008171872227755969)\n",
      "│    \n",
      "│    - referance frame : \n",
      "│        \n",
      "│        name : Moon_orb\n",
      "│         - characteristic matrix : \n",
      "│           [[ 4.19242706e-01  0.00000000e+00  9.07874195e-01  5.58231458e-09]\n",
      "│            [ 0.00000000e+00  1.00000000e+00  0.00000000e+00  9.11661156e+07]\n",
      "│            [-9.07874195e-01  0.00000000e+00  4.19242706e-01  9.11661156e+07]\n",
      "│            [ 0.00000000e+00  0.00000000e+00  0.00000000e+00  1.00000000e+00]]\n",
      "│        \n",
      "│  - rotation info : None\n",
      "│  \n",
      "└──\n",
      "\n",
      "\n"
     ]
    },
    {
     "data": {
      "text/plain": [
       "<celestials.solar_system_model at 0x7f999f4eb5b0>"
      ]
     },
     "execution_count": 13,
     "metadata": {},
     "output_type": "execute_result"
    }
   ],
   "source": [
    "############################### celestials test ###############################\n",
    "import celestials as cel\n",
    "\n",
    "cel.solar_system_model.config_JSON_load('data/SEM_config_snapshot_0.json')"
   ]
  },
  {
   "cell_type": "code",
   "execution_count": null,
   "metadata": {},
   "outputs": [],
   "source": []
  }
 ],
 "metadata": {
  "interpreter": {
   "hash": "c15e991696f6e6f0d095a397628e375e6f7682e71cb9b91b0cd49edb357ea359"
  },
  "kernelspec": {
   "display_name": "Python 3.8.8 64-bit ('base': conda)",
   "name": "python3"
  },
  "language_info": {
   "codemirror_mode": {
    "name": "ipython",
    "version": 3
   },
   "file_extension": ".py",
   "mimetype": "text/x-python",
   "name": "python",
   "nbconvert_exporter": "python",
   "pygments_lexer": "ipython3",
   "version": "3.8.8"
  },
  "orig_nbformat": 4
 },
 "nbformat": 4,
 "nbformat_minor": 2
}
